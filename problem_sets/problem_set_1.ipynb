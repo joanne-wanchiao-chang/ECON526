{
  "cells": [
    {
      "cell_type": "markdown",
      "id": "c0264e49-4b64-4573-9566-710b2f1037f8",
      "metadata": {},
      "source": [
        "# ECON526: Assignment 1\n",
        "\n",
        "Jesse Perla, Paul Schrimpf\n",
        "\n",
        "Modified by: Joanne Chang\n",
        "\n",
        "Date: 09/05/2024 14:38\n",
        "\n",
        "## Setup"
      ]
    },
    {
      "cell_type": "code",
      "execution_count": 102,
      "id": "eda8fe9c-2eed-48b8-90f0-1686e73682ac",
      "metadata": {},
      "outputs": [],
      "source": [
        "import numpy as np\n",
        "import matplotlib.pyplot as plt"
      ]
    },
    {
      "cell_type": "markdown",
      "id": "6c64d1fb-8149-401a-bfa5-dfd05ed41b2f",
      "metadata": {},
      "source": [
        "Install Python (with Jupyter and/or VS Code as you wish) and git.\n",
        "\n",
        "-   See [here](https://github.com/ubcecon/ECON526#computing-environment)\n",
        "    for very instructions and links.\n",
        "-   VS Code is optional but recommended.\n",
        "\n",
        "## Q1\n",
        "\n",
        "Modify the next cell with some math text with the Pythagorean theorem\n",
        "(e.g. $x^2 + y^2 = z^2$)"
      ]
    },
    {
      "cell_type": "markdown",
      "id": "0b688641-b35e-41cc-b0ba-92450e2deaee",
      "metadata": {},
      "source": [
        "$$\n",
        "x^2 + y^2 = z^2\n",
        "$$"
      ]
    },
    {
      "cell_type": "markdown",
      "id": "c9d5908f-2638-4a74-ba0f-42f8aa7beae4",
      "metadata": {},
      "source": [
        "## Q2\n",
        "\n",
        "Modify the next cell to create a function which takes the sides of the\n",
        "rectangle and calculates the hypotenuse (i.e., code up\n",
        "$z(x,y) = \\sqrt{x^2 + y^2}$) then calculate $z(3,4)$"
      ]
    },
    {
      "cell_type": "code",
      "execution_count": null,
      "id": "b0c57d02-109f-47b8-a517-c8d73ba3a612",
      "metadata": {},
      "outputs": [
        {
          "name": "stdout",
          "output_type": "stream",
          "text": [
            "While the sides of the triangle is 3 and 4, according to Pythagorean theory, the hypotenuse is 5.\n"
          ]
        },
        {
          "ename": "",
          "evalue": "",
          "output_type": "error",
          "traceback": [
            "\u001b[1;31mnotebook controller is DISPOSED. \n",
            "\u001b[1;31mView Jupyter <a href='command:jupyter.viewOutput'>log</a> for further details."
          ]
        }
      ],
      "source": [
        "# Define the function\n",
        "def hypotenuse(x, y):\n",
        "    z = np.sqrt(x**2 + y**2)\n",
        "    return z\n",
        "\n",
        "# Set up inputs\n",
        "side_x = 3\n",
        "side_y = 4\n",
        "\n",
        "# Solve\n",
        "answer = hypotenuse(side_x, side_y)\n",
        "\n",
        "# Print results\n",
        "print(f\"While the sides of the triangle is {side_x} and {side_y}, according to Pythagorean theory, the hypotenuse is {answer:.5g}.\")"
      ]
    },
    {
      "cell_type": "markdown",
      "id": "2a079517-ce46-4ac0-ad83-4922a98bda3a",
      "metadata": {},
      "source": [
        "## Q3\n",
        "\n",
        "Take the following system of equations, build a matrix, and solve for\n",
        "the system of equations using numpy’s `linalg.solve` function.\n",
        "\n",
        "$$\n",
        "\\begin{align}\n",
        "2 x_1 + 3 x_2 &= 5 \\\\\n",
        "4 x_1 + 9 x_2 &= 20\n",
        "\\end{align}\n",
        "$$"
      ]
    },
    {
      "cell_type": "code",
      "execution_count": null,
      "id": "c8bd7a40-7516-460b-ad46-e63d34a4bb48",
      "metadata": {},
      "outputs": [
        {
          "name": "stdout",
          "output_type": "stream",
          "text": [
            "The solution is: \n",
            "[x_1, x_2] =  [-2.5         3.33333333]\n"
          ]
        },
        {
          "ename": "",
          "evalue": "",
          "output_type": "error",
          "traceback": [
            "\u001b[1;31mnotebook controller is DISPOSED. \n",
            "\u001b[1;31mView Jupyter <a href='command:jupyter.viewOutput'>log</a> for further details."
          ]
        }
      ],
      "source": [
        "# Set up arrays\n",
        "A = np.array(\n",
        "    [\n",
        "        [2, 3], \n",
        "        [4, 9]\n",
        "    ]\n",
        "    )\n",
        "\n",
        "B = np.array([5, 20])\n",
        "\n",
        "# Solve the equations\n",
        "x_sol = np.linalg.solve(A, B) \n",
        "\n",
        "# Print the result\n",
        "print(\"The solution is: \")\n",
        "print(\"[x_1, x_2] = \", x_sol)"
      ]
    },
    {
      "cell_type": "markdown",
      "id": "a7ae4741-4223-4225-bbe1-464f76464ae7",
      "metadata": {},
      "source": [
        "## Q4\n",
        "\n",
        "Now take the following system\n",
        "\n",
        "$$\n",
        "\\begin{align}\n",
        "x_1 + 2 x_2 &= 5 \\\\\n",
        "2 x_1 + 4 x_2 &= 10\n",
        "\\end{align}\n",
        "$$\n",
        "\n",
        "Try this with `linalg.solve`. Why doesn’t it work? If this has a\n",
        "solution, find it and explain."
      ]
    },
    {
      "cell_type": "markdown",
      "id": "5c6f74a6-4d22-4b44-bab3-c33ba490c34b",
      "metadata": {},
      "source": [
        "It doesn't work because the given system of equation are consisted of two lines that are perfectly overlaped (i.e. they are the same line). As the result, there are infinitly many solutions and `linalg.solve` failed to return a unique solution. "
      ]
    },
    {
      "cell_type": "markdown",
      "id": "ce441a22-574c-41e7-bd39-c547e32ed6c6",
      "metadata": {},
      "source": [
        "## Q5\n",
        "\n",
        "Plot $f(x) = x^2$ for a grid of 20 points of $x \\in [0,1]$. Hint: You\n",
        "can make a grid with `np.linspace(...)` and use matplotlib’s\n",
        "`plt.plot(...)` function."
      ]
    },
    {
      "cell_type": "code",
      "execution_count": null,
      "id": "4b01b40b-6c2a-4990-af03-6883f30dbf2f",
      "metadata": {},
      "outputs": [
        {
          "data": {
            "text/plain": [
              "<function matplotlib.pyplot.show(close=None, block=None)>"
            ]
          },
          "execution_count": 101,
          "metadata": {},
          "output_type": "execute_result"
        },
        {
          "data": {
            "image/png": "[encoded data removed]",
            "text/plain": [
              "<Figure size 640x480 with 1 Axes>"
            ]
          },
          "metadata": {},
          "output_type": "display_data"
        },
        {
          "data": {
            "image/png": "[encoded data removed]",
            "text/plain": [
              "<Figure size 640x480 with 1 Axes>"
            ]
          },
          "metadata": {},
          "output_type": "display_data"
        },
        {
          "ename": "",
          "evalue": "",
          "output_type": "error",
          "traceback": [
            "\u001b[1;31mnotebook controller is DISPOSED. \n",
            "\u001b[1;31mView Jupyter <a href='command:jupyter.viewOutput'>log</a> for further details."
          ]
        }
      ],
      "source": [
        "# An array of 20 points between 0 and 1\n",
        "x = np.linspace(0, 1, num = 20)\n",
        "\n",
        "# An array of corresponded x^2\n",
        "f_x = [x_i*x_i for x_i in x]\n",
        "\n",
        "# Graph f(x) = x^2, continuous\n",
        "plt.figure(0)\n",
        "plt.plot(x, f_x)\n",
        "plt.suptitle(r\"$f(x) = x^2, x \\in [0, 1]$\")\n",
        "plt.title(\"Continuous\")\n",
        "plt.show\n",
        "\n",
        "# Graph f(x) = x^2, discrete\n",
        "plt.figure(1)\n",
        "plt.scatter(x, f_x)\n",
        "plt.suptitle(r\"$f(x) = x^2, x \\in [0, 1]$\")\n",
        "plt.title(\"Discrete with 20 points\")\n",
        "plt.show"
      ]
    }
  ],
  "metadata": {
    "kernelspec": {
      "display_name": "Python 3 (ipykernel)",
      "language": "python",
      "name": "python3"
    },
    "language_info": {
      "codemirror_mode": {
        "name": "ipython",
        "version": 3
      },
      "file_extension": ".py",
      "mimetype": "text/x-python",
      "name": "python",
      "nbconvert_exporter": "python",
      "pygments_lexer": "ipython3",
      "version": "3.12.4"
    }
  },
  "nbformat": 4,
  "nbformat_minor": 5
}
